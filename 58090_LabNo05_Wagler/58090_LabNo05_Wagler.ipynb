{
  "nbformat": 4,
  "nbformat_minor": 0,
  "metadata": {
    "colab": {
      "name": "58090_LabNo05_Wagler",
      "provenance": [],
      "include_colab_link": true
    },
    "kernelspec": {
      "name": "python3",
      "display_name": "Python 3"
    },
    "language_info": {
      "name": "python"
    }
  },
  "cells": [
    {
      "cell_type": "markdown",
      "metadata": {
        "id": "view-in-github",
        "colab_type": "text"
      },
      "source": [
        "<a href=\"https://colab.research.google.com/github/crystalreine/58089_PrelimPS_Gutierrez/blob/main/58090_LabNo05_Wagler/58090_LabNo05_Wagler.ipynb\" target=\"_parent\"><img src=\"https://colab.research.google.com/assets/colab-badge.svg\" alt=\"Open In Colab\"/></a>"
      ]
    },
    {
      "cell_type": "markdown",
      "metadata": {
        "id": "m1Evgke-ClXZ"
      },
      "source": [
        "# Topic 05.1: Classification\n",
        "$_{\\text{©D.J. Lopez | 2021 | Fundamentals of Machine Learning}}$\n",
        "\n",
        "Another vital activity of Machine Learning is Classification. In this module we are going to understand the concepts and applications of classification in machine learning. In this module, we are going to discuss:\n",
        "* Linear Classification\n",
        "* Logistic Regression"
      ]
    },
    {
      "cell_type": "markdown",
      "metadata": {
        "id": "TLzh0eoBgRPz"
      },
      "source": [
        "## Laboratory Activity\n",
        "1. For the laboratory activity, obtain a dataset of your liking from a data source. Explain the purpose of the dataset and mention any publication if it is obtained from the source. Provide a needs statement and significance for the dataset.\n",
        "\n",
        "2. Identify an algorithm or method in performing a single variable classification using least squares or logistic regression. \n",
        "\n",
        "3. Present your solution implementing your algorithm of choice. You may use any library or package in this section. However, you are required to observe the following:\n",
        "\n",
        ">* Enforce object-oriented programming by implementing at least two of the pillars of OOP in the entirety of the solution.\n",
        "* Dedicated functions for training, predicting, and evaluating the solution.\n",
        "* A DataFrame of the metrics of the solution\n",
        "* A visualization of the solution’s results.\n"
      ]
    },
    {
      "cell_type": "code",
      "metadata": {
        "id": "7dJHlNdAedsN"
      },
      "source": [
        "import numpy as np\n",
        "import matplotlib.pyplot as plt\n",
        "import seaborn as sns\n",
        "from sklearn import metrics\n",
        "import pandas as pd\n",
        "from sklearn.linear_model import LogisticRegression"
      ],
      "execution_count": null,
      "outputs": []
    },
    {
      "cell_type": "code",
      "source": [
        "class LRegression():\n",
        "  def train(self,X,y):\n",
        "    if len(X.shape) == 1: X = self._reshape_x(X)\n",
        "    X = self._concatenate_ones(X)\n",
        "    self.coefficients = np.linalg.inv(X.transpose().dot(X)).dot(X.transpose()).dot(y)\n",
        "\n",
        "  def predict(self):\n",
        "    log_model = LogisticRegression(random_state=0)\n",
        "    log_model.fit(X,y)\n",
        "    preds = log_model.predict(X)\n",
        "    return preds\n",
        "\n",
        "  def evaluate(self,X,y):\n",
        "    class_metrics = {\n",
        "    'accuracy': [metrics.accuracy_score(y, preds)],\n",
        "    'precision': [metrics.precision_score(y, preds)],\n",
        "    'recall': [metrics.recall_score(y,preds)],\n",
        "    'f1-score': [metrics.f1_score(y, preds)]}\n",
        "    dataf = pd.DataFrame(class_metrics)\n",
        "    return dataf\n",
        "  \n",
        "  def visualize(self,X,y):\n",
        "    log_model = LogisticRegression(random_state=0)\n",
        "    log_model.fit(X,y)\n",
        "    preds = log_model.predict(X)\n",
        "    plt.figure()\n",
        "    plt.scatter(X,y, color='red')\n",
        "    plt.scatter(X,preds, color='green')\n",
        "    plt.grid()\n",
        "\n",
        "    plt.figure()\n",
        "    conf_mat = metrics.confusion_matrix(y, preds)\n",
        "    sns.heatmap(conf_mat, annot=True)\n",
        "    plt.xlabel(\"Predicted\")\n",
        "    plt.ylabel(\"Ground Truth\")\n",
        "    return plt.show()\n",
        "\n",
        "  #helper functions\n",
        "  def _reshape_x(self,X):\n",
        "    return X.reshape(-1,1)\n",
        "    \n",
        "  def _concatenate_ones(self, X):\n",
        "    ones = np.ones(shape=X.shape[0]).reshape(-1,1)\n",
        "    return np.concatenate((ones,X),1)"
      ],
      "metadata": {
        "id": "wFW8TR5JdxR6"
      },
      "execution_count": 114,
      "outputs": []
    },
    {
      "cell_type": "code",
      "metadata": {
        "id": "NTWehnvL_rsK"
      },
      "source": [
        "df_admit = pd.read_csv('/content/drugDeaths_clean.csv').head(100)\n",
        "X = df_admit['Age'].to_numpy().reshape((-1,1))\n",
        "y = df_admit['DateType'].to_numpy().reshape((-1,1))"
      ],
      "execution_count": null,
      "outputs": []
    },
    {
      "cell_type": "code",
      "source": [
        "classification = LRegression()"
      ],
      "metadata": {
        "id": "aEpNizHYi9KE"
      },
      "execution_count": null,
      "outputs": []
    },
    {
      "cell_type": "code",
      "source": [
        "classification.train(X,y)"
      ],
      "metadata": {
        "id": "VIE35QmveVG9"
      },
      "execution_count": 113,
      "outputs": []
    },
    {
      "cell_type": "code",
      "source": [
        "classification.predict()"
      ],
      "metadata": {
        "id": "i3rkMj0SxvBh",
        "outputId": "5281ec72-0f25-4c45-c799-4355ad04f8d6",
        "colab": {
          "base_uri": "https://localhost:8080/"
        }
      },
      "execution_count": null,
      "outputs": [
        {
          "output_type": "stream",
          "name": "stderr",
          "text": [
            "/usr/local/lib/python3.7/dist-packages/sklearn/utils/validation.py:985: DataConversionWarning: A column-vector y was passed when a 1d array was expected. Please change the shape of y to (n_samples, ), for example using ravel().\n",
            "  y = column_or_1d(y, warn=True)\n"
          ]
        },
        {
          "output_type": "execute_result",
          "data": {
            "text/plain": [
              "array([1., 0., 0., 0., 0., 0., 0., 0., 1., 0., 1., 1., 0., 1., 0., 0., 1.,\n",
              "       0., 1., 0., 0., 0., 0., 0., 1., 0., 0., 0., 1., 1., 0., 1., 0., 1.,\n",
              "       0., 1., 1., 0., 0., 0., 0., 0., 0., 1., 1., 1., 1., 0., 1., 0., 1.,\n",
              "       1., 0., 1., 1., 0., 1., 1., 1., 1., 0., 0., 0., 0., 0., 0., 1., 0.,\n",
              "       0., 0., 1., 0., 0., 1., 0., 0., 1., 0., 1., 1., 0., 1., 1., 0., 0.,\n",
              "       1., 0., 1., 0., 0., 0., 1., 0., 0., 0., 1., 0., 0., 0., 0.])"
            ]
          },
          "metadata": {},
          "execution_count": 103
        }
      ]
    },
    {
      "cell_type": "code",
      "source": [
        "classification.visualize(X,y)"
      ],
      "metadata": {
        "colab": {
          "base_uri": "https://localhost:8080/",
          "height": 582
        },
        "id": "4LbUiN1VpC_m",
        "outputId": "16265471-f08a-40bc-f0d7-bd949eb452b0"
      },
      "execution_count": null,
      "outputs": [
        {
          "output_type": "stream",
          "name": "stderr",
          "text": [
            "/usr/local/lib/python3.7/dist-packages/sklearn/utils/validation.py:985: DataConversionWarning: A column-vector y was passed when a 1d array was expected. Please change the shape of y to (n_samples, ), for example using ravel().\n",
            "  y = column_or_1d(y, warn=True)\n"
          ]
        },
        {
          "output_type": "display_data",
          "data": {
            "image/png": "[encoded data removed]",
            "text/plain": [
              "<Figure size 432x288 with 1 Axes>"
            ]
          },
          "metadata": {
            "needs_background": "light"
          }
        },
        {
          "output_type": "display_data",
          "data": {
            "image/png": "[encoded data removed]",
            "text/plain": [
              "<Figure size 432x288 with 2 Axes>"
            ]
          },
          "metadata": {
            "needs_background": "light"
          }
        }
      ]
    },
    {
      "cell_type": "code",
      "source": [
        "classification.evaluate(X,y)"
      ],
      "metadata": {
        "colab": {
          "base_uri": "https://localhost:8080/",
          "height": 81
        },
        "id": "RITRmLtXjGSw",
        "outputId": "ee5e1210-835e-459c-fa4f-4f20f4131b3c"
      },
      "execution_count": null,
      "outputs": [
        {
          "output_type": "execute_result",
          "data": {
            "text/html": [
              "<div>\n",
              "<style scoped>\n",
              "    .dataframe tbody tr th:only-of-type {\n",
              "        vertical-align: middle;\n",
              "    }\n",
              "\n",
              "    .dataframe tbody tr th {\n",
              "        vertical-align: top;\n",
              "    }\n",
              "\n",
              "    .dataframe thead th {\n",
              "        text-align: right;\n",
              "    }\n",
              "</style>\n",
              "<table border=\"1\" class=\"dataframe\">\n",
              "  <thead>\n",
              "    <tr style=\"text-align: right;\">\n",
              "      <th></th>\n",
              "      <th>accuracy</th>\n",
              "      <th>precision</th>\n",
              "      <th>recall</th>\n",
              "      <th>f1-score</th>\n",
              "    </tr>\n",
              "  </thead>\n",
              "  <tbody>\n",
              "    <tr>\n",
              "      <th>0</th>\n",
              "      <td>0.53</td>\n",
              "      <td>0.512821</td>\n",
              "      <td>0.416667</td>\n",
              "      <td>0.45977</td>\n",
              "    </tr>\n",
              "  </tbody>\n",
              "</table>\n",
              "</div>"
            ],
            "text/plain": [
              "   accuracy  precision    recall  f1-score\n",
              "0      0.53   0.512821  0.416667   0.45977"
            ]
          },
          "metadata": {},
          "execution_count": 113
        }
      ]
    }
  ]
}