{
  "nbformat": 4,
  "nbformat_minor": 0,
  "metadata": {
    "colab": {
      "name": "58089_PrelimPS_Gutierrez.ipynb",
      "provenance": [],
      "collapsed_sections": [],
      "include_colab_link": true
    },
    "kernelspec": {
      "name": "python3",
      "display_name": "Python 3"
    },
    "language_info": {
      "name": "python"
    }
  },
  "cells": [
    {
      "cell_type": "markdown",
      "metadata": {
        "id": "view-in-github",
        "colab_type": "text"
      },
      "source": [
        "<a href=\"https://colab.research.google.com/github/crystalreine/58089_PrelimPS_Gutierrez/blob/main/58089_PrelimPS_Gutierrez.ipynb\" target=\"_parent\"><img src=\"https://colab.research.google.com/assets/colab-badge.svg\" alt=\"Open In Colab\"/></a>"
      ]
    },
    {
      "cell_type": "markdown",
      "metadata": {
        "id": "fte_zsqVdp8R"
      },
      "source": [
        "# Topic02a : Prelim Problem Set I"
      ]
    },
    {
      "cell_type": "markdown",
      "metadata": {
        "id": "JpcY5oJ5eFxA"
      },
      "source": [
        "## Case 1\n",
        "Represent the following representations into its vectorized form using LaTeX.\n",
        "> **Problem 1.a. System of Linear Equations**\n",
        "$$\n",
        "\\left\\{\n",
        "    \\begin{array}\\\\\n",
        "        -y+z=\\frac{1}{32}\\\\ \n",
        "        \\frac{1}{2}x -2y=0 \\\\\n",
        "        -x + \\frac{3}{7}z=\\frac{4}{5}\n",
        "    \\end{array}\n",
        "\\right. $$\n",
        "> **Problem 1.b. Linear Combination**\n",
        "$$  \\cos{(\\theta)}\\hat{i} + \\sin{(\\theta)}\\hat{j} - \\csc{(2\\theta)}\\hat{k}$$\n",
        "> **Problem 1.c. Scenario**\n",
        ">\n",
        ">A conference has 200 student attendees, 45 professionals, and has 15 members of the panel. There is a team of 40 people on the organizing committee. Represent the *percent* composition of each *attendee* type of the conference in matrix form.\n",
        "\n",
        "Express your answers in LaTeX in the answer area.\n"
      ]
    },
    {
      "cell_type": "code",
      "metadata": {
        "id": "-ZQw0ZDulkST"
      },
      "source": [
        "import numpy as np\n",
        "import math\n",
        "import matplotlib.pyplot as plt\n",
        "%matplotlib inline"
      ],
      "execution_count": null,
      "outputs": []
    },
    {
      "cell_type": "markdown",
      "metadata": {
        "id": "yb1qMeEnue2h"
      },
      "source": [
        "##### **Problem 1.a. ANSWER: System of Linear Equations**"
      ]
    },
    {
      "cell_type": "code",
      "metadata": {
        "colab": {
          "base_uri": "https://localhost:8080/"
        },
        "id": "ZRldwgj4dQ52",
        "outputId": "80623935-562e-41f7-b5d8-6da28a30d156"
      },
      "source": [
        "x = np.array([[-1, 1, 1/32], [1/2, -2, 0], [-1, 3/7, 4/5]])\n",
        "x"
      ],
      "execution_count": null,
      "outputs": [
        {
          "output_type": "execute_result",
          "data": {
            "text/plain": [
              "array([[-1.        ,  1.        ,  0.03125   ],\n",
              "       [ 0.5       , -2.        ,  0.        ],\n",
              "       [-1.        ,  0.42857143,  0.8       ]])"
            ]
          },
          "metadata": {},
          "execution_count": 7
        }
      ]
    },
    {
      "cell_type": "markdown",
      "metadata": {
        "id": "z6EgBoTfhjtc"
      },
      "source": [
        "$$\n",
        "x =\\begin{bmatrix} -1 & 1 & \\frac{1}{32} \\\\ \\frac{1}{2} & {-2} & 0\\\\ -1 & \\frac{3}{7} & \\frac{4}{5}\\end{bmatrix}\n",
        "$$"
      ]
    },
    {
      "cell_type": "markdown",
      "metadata": {
        "id": "OmFS8yycuWOh"
      },
      "source": [
        "##### **Problem 1.b. ANSWER: Linear Combination**"
      ]
    },
    {
      "cell_type": "code",
      "metadata": {
        "colab": {
          "base_uri": "https://localhost:8080/"
        },
        "id": "TDPyvFRklhOb",
        "outputId": "5a71c738-7934-4efc-ec44-ce5d1320b9c5"
      },
      "source": [
        "csc = 1/math.sin(2**180)\n",
        "cos = math.cos(180)\n",
        "sin = math.sin(180)\n",
        "\n",
        "t = np.array([cos, sin, csc]) ##Values from the upper part\n",
        "t"
      ],
      "execution_count": null,
      "outputs": [
        {
          "output_type": "execute_result",
          "data": {
            "text/plain": [
              "array([-0.59846007, -0.80115264,  1.00032034])"
            ]
          },
          "metadata": {},
          "execution_count": 40
        }
      ]
    },
    {
      "cell_type": "markdown",
      "metadata": {
        "id": "H7ilFpTQjhUE"
      },
      "source": [
        "$$\n",
        "t =\\begin{bmatrix} cos{(\\theta)}\\hat{i} \\\\ sin{(\\theta)}\\hat{j}\\\\ -csc{(2\\theta)}\\hat{k}\\end{bmatrix}\n",
        "$$"
      ]
    },
    {
      "cell_type": "markdown",
      "metadata": {
        "id": "RPdlpBEVtETh"
      },
      "source": [
        "##### **Problem 1.c.ANSWER: Scenario**"
      ]
    },
    {
      "cell_type": "code",
      "metadata": {
        "colab": {
          "base_uri": "https://localhost:8080/"
        },
        "id": "dO0_8TxuO4A6",
        "outputId": "2e06cd3e-dbe8-47b9-a4da-ace62abd2657"
      },
      "source": [
        "attendees = np.array([200, 45, 15, 40])\n",
        "\n",
        "np.true_divide(attendees,300) * 100"
      ],
      "execution_count": null,
      "outputs": [
        {
          "output_type": "execute_result",
          "data": {
            "text/plain": [
              "array([66.66666667, 15.        ,  5.        , 13.33333333])"
            ]
          },
          "metadata": {},
          "execution_count": 6
        }
      ]
    },
    {
      "cell_type": "markdown",
      "metadata": {
        "id": "E70h0nekZPpl"
      },
      "source": [
        "$$\n",
        "\\begin{matrix} {Students} \\\\ {Professionals} \\\\ {Panels} \\\\ {Committee} \\end{matrix}\n",
        "\\begin{bmatrix} 200 \\\\ 45 \\\\ 15 \\\\ 40 \\end{bmatrix} =\n",
        "\\begin{bmatrix} 66.67\\% \\\\ 15.00\\% \\\\ 5.00\\% \\\\ 13.33\\% \\end{bmatrix}\n",
        "$$"
      ]
    },
    {
      "cell_type": "markdown",
      "metadata": {
        "id": "Uvb1MGs9QNVt"
      },
      "source": [
        "# Case 2\n",
        "> **Problem 2.a: Vector Magnitude**\n",
        "\n",
        ">The magnitude of a vector is usually computed as:\n",
        "$$||v|| = \\sqrt{a_0^2 + a_1^2 + ... +a_n^2}$$\n",
        "Whereas $v$ is any vector and $a_k$ are its elements wherein $k$ is the size of $v$.\n",
        "Re-formulate $||v||$ as a function of an inner product. Further discuss this concept and provide your user-defined function.\n",
        "\n",
        "> **Problem 2.b: Angle Between Vectors**\n",
        "\n",
        "> Inner products can also be related to the Law of Cosines. The property suggests that:\n",
        "$$u\\cdot v = ||u||\\cdot||v||\\cos(\\theta)$$\n",
        "Whereas $u$ and $v$ are vectors that have the same sizes and $\\theta$ is the angle between $u$ and $v$.\n",
        "\n",
        "> Explain the behavior of the dot product when the two vectors are perpendicular and when they are parallel.\n"
      ]
    },
    {
      "cell_type": "markdown",
      "metadata": {
        "id": "6n1L4Hx82_Y8"
      },
      "source": [
        "######**Problem 2.a. ANSWER: Vector Magnitude**\n",
        "\n",
        "The magnitude of a vector is determined by its length. The length of a vector must be calculated first before computing its magnitude. Velocity, displacement, force, momentum, and other quantities with direction are examples of vector quantities.\n",
        "\n",
        "To re-formulate $||v||$ as a function of an inner product it would be presented as:\n",
        "$$ ||v|| = \\sqrt{\\langle v|v \\rangle} $$\n"
      ]
    },
    {
      "cell_type": "code",
      "metadata": {
        "colab": {
          "base_uri": "https://localhost:8080/"
        },
        "id": "H4ShVWIRIZUS",
        "outputId": "ddbc4af8-3c73-41d4-fbef-81fcc8ab914a"
      },
      "source": [
        "def vect_mag(a):\n",
        "  return np.sqrt(sum(k**2 for k in a))\n",
        "\n",
        "v = np.array([1,2,3,4,5])\n",
        "vector = vect_mag(v)\n",
        "print(v, vector, sep = '\\n')"
      ],
      "execution_count": null,
      "outputs": [
        {
          "output_type": "stream",
          "name": "stdout",
          "text": [
            "[1 2 3 4 5]\n",
            "7.416198487095663\n"
          ]
        }
      ]
    },
    {
      "cell_type": "markdown",
      "metadata": {
        "id": "FKq61bWHLwMS"
      },
      "source": [
        "######**Problem 2.b. ANSWER: Angle Between Vectors**\n",
        "Given that vectors are quantities with direction, there would be something that would indicate that direction. In this case, it's an angle. \n",
        "\n",
        "The dot product when two vectors are perpendicular is null as $cos(90) = 0$.\n",
        "\n",
        "$$ u \\cdot v = ||u|| \\cdot ||v||cos(90) \\\\\n",
        "u \\cdot v = ||u|| \\cdot ||v|| 0 \\\\\n",
        "u \\cdot v = 0 $$\n",
        "\n",
        "The dot product when two vectors are parallel is just the dot product of two vectors as $cos(0) = 1$.\n",
        "\n",
        "$$ u \\cdot v = ||u|| \\cdot ||v|| cos (0) \\\\\n",
        "u \\cdot v = ||u|| \\cdot ||v||1\\\\\n",
        "u \\cdot v = u \\cdot v $$\n",
        "\n",
        "\n"
      ]
    },
    {
      "cell_type": "code",
      "metadata": {
        "id": "-3hmOS0sc001"
      },
      "source": [
        "def angle_vectors(a,b):\n",
        "  inner = np.inner(a, b)\n",
        "  norms = np.linalg.norm(a) * np.linalg.norm(b)\n",
        "\n",
        "  cos = inner/norms\n",
        "  rad = np.arccos(np.clip(cos, -1.0, 1.0))\n",
        "  deg = np.rad2deg(rad)\n",
        "  print(\"Radiant: \", rad)\n",
        "  print(\"Degree: \", deg)"
      ],
      "execution_count": null,
      "outputs": []
    },
    {
      "cell_type": "code",
      "metadata": {
        "colab": {
          "base_uri": "https://localhost:8080/"
        },
        "id": "wnZaXSzTeZj3",
        "outputId": "cdb184c2-c283-41c3-aff7-4a26cb5d4590"
      },
      "source": [
        "a = np.array([10,11])\n",
        "b = np.array([2,5])\n",
        "print(a,b)"
      ],
      "execution_count": null,
      "outputs": [
        {
          "output_type": "stream",
          "name": "stdout",
          "text": [
            "[10 11] [2 5]\n"
          ]
        }
      ]
    },
    {
      "cell_type": "code",
      "metadata": {
        "colab": {
          "base_uri": "https://localhost:8080/"
        },
        "id": "5HBU4J83ejRV",
        "outputId": "38f64806-0226-4644-804c-98e3472f8a0a"
      },
      "source": [
        "angle_vectors(a,b)"
      ],
      "execution_count": null,
      "outputs": [
        {
          "output_type": "stream",
          "name": "stdout",
          "text": [
            "Radiant:  0.35730868300810004\n",
            "Degree:  20.472279519741925\n"
          ]
        }
      ]
    },
    {
      "cell_type": "markdown",
      "metadata": {
        "id": "_cH8JpkBj1xS"
      },
      "source": [
        "# Case 3\n",
        "For the final cases analysis we will be looking at series of equations building up a single feed-forward computation of a logistic regression. The case will not require you to learn fully what is logistic regression. \n",
        "\n",
        "$$X = \\begin{bmatrix} \n",
        "— (x^{(1)})^T— \\\\ \n",
        "— (x^{(2)})^T— \\\\\n",
        "\\vdots \\\\\n",
        "— (x^{(m)})^T— \\\\\n",
        "\\end{bmatrix} \\text{, } \n",
        "Y = \\begin{bmatrix} \n",
        "y^{(1)} \\\\ \n",
        "y^{(2)} \\\\\n",
        "\\vdots \\\\\n",
        "y^{(m)} \\\\\n",
        "\\end{bmatrix} \\text{, and } \n",
        "\\theta = \\begin{bmatrix} \n",
        "\\theta^{(1)} \\\\ \n",
        "\\theta^{(2)} \\\\\n",
        "\\vdots \\\\\n",
        "\\theta^{(m)} \\\\\n",
        "\\end{bmatrix} $$\n",
        "The dataset $X$ has $m$ entries with $n$ features while $Y$ is the vector containing the groud truths of a the entries of $X$, and $\\theta$ are the parameters or weights of the vectors. We first compute the vector product of the dataset and the parameters as:\n",
        "$$ z = x^{(i)}\\theta^{(i)} = X\\cdot \\theta\\\\_{\\text{Eq. 3.1}}$$\n",
        "We then solve for the hypothesis of the logistic regression alogrithm as:\n",
        "\n",
        "$$ h_\\theta(x) = g(z)\\\\_{\\text{Eq. 3.2}}$$\n",
        "\n",
        "Where $g$ is an acitvation function that maps the values of the hypothesis vector between a range of 0 and 1. We computed the activation as a sigmoid function:\n",
        "$$g(z) = \\frac{1}{1+e^{-z}}\\\\_{\\text{Eq. 3.3}}$$\n",
        "Finally we compute the loss of the logistic regression algorithm using $J$. Wheras $J(\\theta)$ is a function that computes the logistic loss of the hypothesis with respect to the ground truths $y$. it is then computed as:\n",
        "$$J(\\theta) = \\frac{1}{m} \\sum^m_{i=0}=[-y^{(i)}\\log({h_{\\theta}(x^{(i)})})-(1-y^{(i)})\\log(1-h_{\\theta}(x^{(i)}))]\\\\_{\\text{Eq. 3.4}}$$"
      ]
    },
    {
      "cell_type": "markdown",
      "metadata": {
        "id": "MQ8jJV9-qyFy"
      },
      "source": [
        "> **Problem 3.a: Matrix Equivalences**\n",
        "\n",
        "> In Eq. 1, $z$ can also be solved as $X \\cdot \\theta$ which is the vectorized form of $x^{(i)}\\theta^{(i)}$. However, it can also be expressed as $\\theta^T\\cdot X$. Prove the equality of $X \\cdot \\theta$ with $\\theta^T\\cdot X$ in this case.\n",
        "\n",
        "> **Problem 3.b: Matrix Shapes**\n",
        "\n",
        "> Determine the shape of $h_\\theta$ if $X$ has a shape of $(300,5)$.\n",
        "\n",
        "> **Problem 3.c: Vectorization**\n",
        "\n",
        "> Express $J(\\theta)$ into its vectorized form.\n",
        "\n",
        "> **Problem 4.c: Computational Programming (Also Laboratory 2)**\n",
        "\n",
        "> Encode Equations 3.1 to 3.4 as the class `LRegression` wherein:\n",
        "\n",
        "> * `LRegression` should be instantiated with a dataset $X$, a ground truth vector $y$, and a parameter vector $\\theta$. Each parameter should have a data type of `numpy.array`.\n",
        "> * It should further have `methods`reflecting to at least the four (4) aforementioned equations. Each should have a return value.\n"
      ]
    },
    {
      "cell_type": "markdown",
      "metadata": {
        "id": "jgxlp4HUUlnF"
      },
      "source": [
        "######**Problem 3.a. ANSWER: Matrix Equivalences**"
      ]
    },
    {
      "cell_type": "markdown",
      "metadata": {
        "id": "cfWEB6J5U5c8"
      },
      "source": [
        "Unlike scalar multiplication, multiplication involving matrices is not commutative. However, commutative property is allowed when getting the dot product between two vectors.\n",
        "\n",
        "\n",
        "It means that $A\\cdot B = B \\cdot A $ can be applied even if one of the vectors is transposed. \n",
        "\n",
        "In problem 3.a, it is required to prove the equality of $X \\cdot \\theta$ with $\\theta^T\\cdot X$ given that $z$ can also be solved as $X \\cdot \\theta$ in equation 3.1\n",
        "$$X = \\begin{bmatrix} \n",
        "— (x^{(1)})^T— \\\\ \n",
        "— (x^{(2)})^T— \\\\\n",
        "\\vdots \\\\\n",
        "— (x^{(m)})^T— \\\\\n",
        "\\end{bmatrix} \\text{, } \n",
        "\\theta = \\begin{bmatrix} \n",
        "\\theta^{(1)} \\\\ \n",
        "\\theta^{(2)} \\\\\n",
        "\\vdots \\\\\n",
        "\\theta^{(m)} \\\\\n",
        "\\end{bmatrix} $$\n",
        "\n",
        "By computing the vector product of the dataset and the parameters $$ z = X\\cdot \\theta$$ we get:\n",
        "\n",
        "$$z = \\begin{bmatrix} \n",
        "— (x^{(1)})^T\\theta— \\\\ \n",
        "— (x^{(2)})^T\\theta-\\\\\n",
        "\\vdots \\\\\n",
        "— (x^{(m)})^T\\theta— \\\\\n",
        "\\end{bmatrix}$$\n",
        "\n",
        "\n",
        "By applying commutative property to $ z = X\\cdot \\theta$ which is the vectorized form of $x^{(i)^T} \\theta^{(i)}$ , we can say that it is equal to \n",
        "\n",
        "$$ z = \\theta^T\\cdot X$$ \n",
        "\n",
        "$$z = \\begin{bmatrix} \n",
        "—\\theta^T(x^{(1)})— \\\\ \n",
        "—\\theta^T(x^{(2)})-\\\\\n",
        "\\vdots \\\\\n",
        "—\\theta^T(x^{(m)})— \\\\\n",
        "\\end{bmatrix}$$\n",
        "\n",
        "Hence, \n",
        "$$z = \\begin{bmatrix} \n",
        "— (x^{(1)})^T\\theta— \\\\ \n",
        "— (x^{(2)})^T\\theta-\\\\\n",
        "\\vdots \\\\\n",
        "— (x^{(m)})^T\\theta— \\\\\n",
        "\\end{bmatrix} \n",
        "= \\begin{bmatrix} \n",
        "—\\theta^T(x^{(1)})— \\\\ \n",
        "—\\theta^T(x^{(2)})-\\\\\n",
        "\\vdots \\\\\n",
        "—\\theta^T(x^{(m)})— \\\\\n",
        "\\end{bmatrix} $$"
      ]
    },
    {
      "cell_type": "markdown",
      "metadata": {
        "id": "12rnsYblVEKW"
      },
      "source": [
        "######**Problem 3.b. ANSWER: Matrix Shapes**"
      ]
    },
    {
      "cell_type": "markdown",
      "metadata": {
        "id": "9aUB7EshVITD"
      },
      "source": [
        "The output derived from logic regression hypothesis $h_\\theta$ is used in determining the estimated probability. In this problem, the shape of $h_\\theta$ must be determined given that $X$ has a shape of $(300,5)$\n",
        "\n",
        "\n",
        "Logic Regression Hypothesis: \n",
        "$$ h_\\theta(x) = g(z)\\$$\n",
        "\n",
        "wherein\n",
        "$$g(z) = \\frac{1}{1+e^{-z}}\\$$\n",
        "and\n",
        "\n",
        "$$ z = X\\cdot\\theta$$ \n",
        "\n",
        "if $X$ has a shape of $(300,5)$ then\n",
        "\n",
        "$$X = \\begin{bmatrix} \n",
        "x^{1} \\quad x^{301} \\quad x^{601} \\quad x^{901} \\quad x^{1201} \\\\\n",
        "x^{2} \\quad x^{302} \\quad x^{603} \\quad x^{904} \\quad x^{1205} \\\\  \n",
        "\\enspace\\vdots\\hspace{2em} \\vdots\\hspace{2em}  \\vdots\\hspace{2em} \\vdots \\hspace{2em}\\vdots\\enspace\\\\\n",
        "x^{300} \\quad x^{600} \\quad x^{900} \\quad x^{1200} \\quad x^{1500} \\\\  \n",
        "\\end{bmatrix}\n",
        "\\text{, } \n",
        "\\theta = \\begin{bmatrix} \n",
        "\\theta^{1} \\\\ \n",
        "\\theta^{2} \\\\\n",
        "\\vdots \\\\\n",
        "\\theta^{k} \\\\\n",
        "\\end{bmatrix}\n",
        "$$\n",
        "\n",
        "It can also be written as \n",
        "$$ h_\\theta = g(X.\\theta)\\$$\n",
        "\n",
        "Getting $h_\\theta$ by multiplying $X$ that has a shape of $(n,m)$ or (300,5) to its parameter vector $\\theta$ that has a dimension of $(m,k)$ or (300,1) would result to getting the scalar value of the inner product $(300,1)$\n",
        "\n",
        "$$\n",
        "h_\\theta = \\begin{bmatrix} \n",
        "\\theta^{1}(x^{1}) \\\\ \n",
        "\\theta^{2}(x^{2}) \\\\\n",
        "\\vdots \\\\\n",
        "\\theta^{300}(x^{300}) \\\\ \n",
        "\\end{bmatrix}\n",
        "$$"
      ]
    },
    {
      "cell_type": "markdown",
      "metadata": {
        "id": "6QgW_HmznrYK"
      },
      "source": [
        "######**Problem 3.c. ANSWER: Vectorization**"
      ]
    },
    {
      "cell_type": "markdown",
      "metadata": {
        "id": "c3Me5KiPfndF"
      },
      "source": [
        "$$\\begin{bmatrix} \n",
        "\\frac{\\partial{J}}{\\partial{\\theta}_0} \\\\ \n",
        "\\frac{\\partial{J}}{\\partial{\\theta}_1} \\\\\n",
        "\\frac{\\partial{J}}{\\partial{\\theta}_2} \\\\\n",
        "\\vdots \\\\\n",
        "\\frac{\\partial{J}}{\\partial{\\theta}_n} \\\\\n",
        "\\end{bmatrix} = \n",
        "\\frac{1}{m}\n",
        "\\begin{bmatrix} \n",
        "\\sum^{m}_{i=1} [ -y^{(i)} \\log (h_{\\theta} (x^{(i)})) - (1-y^{(i)}) \\log (1-h_{\\theta}(x^{(i)}))] \\\\\n",
        "\\sum^{m}_{i=1} [ -y^{(i)} \\log (h_{\\theta} (x^{(i)})) - (1-y^{(i)}) \\log (1-h_{\\theta}(x^{(i)}))] \\\\ \n",
        "\\sum^{m}_{i=1} [ -y^{(i)} \\log (h_{\\theta} (x^{(i)})) - (1-y^{(i)}) \\log (1-h_{\\theta}(x^{(i)}))] \\\\ \n",
        "\\vdots \\\\\n",
        "\\sum^{m}_{i=1} [ -y^{(i)} \\log (h_{\\theta} (x^{(i)})) - (1-y^{(i)}) \\log (1-h_{\\theta}(x^{(i)}))] \\\\ \n",
        "\\end{bmatrix} \n",
        "$$\n",
        "\n",
        "$$\n",
        "\\frac{\\partial{J}(\\theta)}{\\partial{\\theta}_0} =\n",
        "\\frac{1}{m}\n",
        "\\sum\\limits_{i=1}^m (h_0(x^{(i)})-y^{(i)})x^{(i)}_j \n",
        "$$\n",
        "$$\n",
        "\\frac{\\partial{J}(\\theta)}{\\partial{\\theta}_0} = \\left (\n",
        "\\frac{1}{m}\n",
        "\\sum\\limits_{i=1}^m (h_0(x^{(i)})-y^{(i)})x^{(i)}_j \\right) +\n",
        "\\frac{\\lambda}{m} \\theta_j\n",
        "$$"
      ]
    }
  ]
}