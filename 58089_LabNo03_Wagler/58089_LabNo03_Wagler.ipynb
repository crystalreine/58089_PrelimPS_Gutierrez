{
  "nbformat": 4,
  "nbformat_minor": 0,
  "metadata": {
    "colab": {
      "name": "58089_LabNo03_Wagler.ipynb",
      "provenance": [],
      "include_colab_link": true
    },
    "kernelspec": {
      "name": "python3",
      "display_name": "Python 3"
    },
    "language_info": {
      "name": "python"
    }
  },
  "cells": [
    {
      "cell_type": "markdown",
      "metadata": {
        "id": "view-in-github",
        "colab_type": "text"
      },
      "source": [
        "<a href=\"https://colab.research.google.com/github/crystalreine/58089_PrelimPS_Gutierrez/blob/main/58089_LabNo03_Wagler/58089_LabNo03_Wagler.ipynb\" target=\"_parent\"><img src=\"https://colab.research.google.com/assets/colab-badge.svg\" alt=\"Open In Colab\"/></a>"
      ]
    },
    {
      "cell_type": "markdown",
      "metadata": {
        "id": "MpJlDXlItfea"
      },
      "source": [
        "# Topic 4 Lab 1: Simple Linear Regression\n",
        "$_{\\text{©D.J. Lopez | 2021 | Fundamentals of Machine Learning}}$"
      ]
    },
    {
      "cell_type": "markdown",
      "metadata": {
        "id": "NxfvdPKXt9CA"
      },
      "source": [
        "Create a class named `LinearRegression_Simple()` wherein it can compute for the linear regression for a single variable. The class will be required to have the following helper methods:\n",
        "> 1. `covariance(vectA, vectB)`\n",
        ">> input: 2 single-dimension vectors\n",
        ">>\n",
        ">> output: the covariance between the two input vectors (scalar) \n",
        "> 2. `pearsons_R(vectA, vectB)`\n",
        ">> input: 2 single-dimension vectors\n",
        ">>\n",
        ">> output: the correlation between the two input vectors (scalar)\n",
        "> 3. `train(X, y)`\n",
        ">> input: 2 single-dimension vectors\n",
        ">>\n",
        ">> output: the weights of the linear regressor.\n",
        "> 4. `predict(x)`\n",
        ">> input: A testing vector. *Note*: this function should accept both scalar and vector values.\n",
        ">>\n",
        ">> output: the predicted value. Note: the procedure in solving for the predicted value should be vectorized. Use the concept of matrix multiplication.\n",
        "> 5. `evaluate()`\n",
        ">> input: \n",
        ">>\n",
        ">> output: a `dictionary` that displays the SST, SSR, SST, MSE, RMSE, R-squared, and the Adjusted R-squared of the model. Note: You should use the `predict()` method here.\n",
        "> 5. `visualize()`\n",
        ">> input: *none*\n",
        ">>\n",
        ">> output: a visualization of the linear regressor over the input dataset. It should be saved as a .jpg file into the running notebook with a dpi of 400."
      ]
    },
    {
      "cell_type": "code",
      "metadata": {
        "id": "HJ5d9yB8x4y5"
      },
      "source": [
        "import numpy as np\n",
        "import matplotlib.pyplot as plt\n",
        "## No other packages or libraries can be added in this cell"
      ],
      "execution_count": 5,
      "outputs": []
    },
    {
      "cell_type": "code",
      "metadata": {
        "id": "0UVg9Zo6td0j"
      },
      "source": [
        "### YOUR CODE HERE\n",
        "class LinearRegression_Simple():\n",
        "  \n",
        "  ### Program the required methods\n",
        "\n",
        "  ## Coding covariances\n",
        "  def covariance(self,vectA,vectB):\n",
        "    covariance = np.round(np.cov(vectA,vectB),2)\n",
        "    return covariance[0,1]\n",
        "\n",
        "  ## Coding Pearsons Correlation\n",
        "  def pearsons_r(self,vectA,vectB):\n",
        "    R = np.corrcoef(vectA,vectB)[0,1]\n",
        "    return R\n",
        "  \n",
        "  ## Coding the Weights of the Linear Regression\n",
        "  def train(self,X,y):\n",
        "    # compute for the std.dev of X and y\n",
        "    std_X, std_y = np.std(X), np.std(y)\n",
        "\n",
        "    # compute for Pearson's R\n",
        "    rho = np.corrcoef(X,y)[0,1]\n",
        "\n",
        "    # compute for the weights of the bias term\n",
        "    w1 = rho*(std_y/std_X)\n",
        "\n",
        "    # compute for the weights of the feature\n",
        "    w0 = y.mean()-w1*X.mean()\n",
        "\n",
        "    return (w1,w0)\n",
        "  \n",
        "  def __init__(self):\n",
        "    self.model_ = self.train(X,y)\n",
        "\n",
        "  ### You may add other helper functions in to make your code cleaner"
      ],
      "execution_count": 47,
      "outputs": []
    },
    {
      "cell_type": "code",
      "metadata": {
        "id": "WfpcPrkYxXJJ"
      },
      "source": [
        "### Testing Data\n",
        "### DO NOT DELETE NOR MODIFY THIS CELL\n",
        "\n",
        "np.random.seed(123)\n",
        "X = np.arange(0,100,1,dtype=np.float64) ## features\n",
        "m = np.random.uniform(0.3,0.8,(100,)) ## weights\n",
        "b = np.random.uniform(8,10,(100,)) ## biases\n",
        "y = -m*X-b  ## targets\n",
        "X_test = np.arange(100,300,1,dtype=np.float64)"
      ],
      "execution_count": 48,
      "outputs": []
    },
    {
      "cell_type": "code",
      "metadata": {
        "id": "04QWyv34xQMK"
      },
      "source": [
        "## TEST #1 (Max pts: 5)\n",
        "## DO NOT DELETE NOR MODIFY THIS CELL\n",
        "regressor = LinearRegression_Simple()"
      ],
      "execution_count": 49,
      "outputs": []
    },
    {
      "cell_type": "code",
      "metadata": {
        "id": "UUkoBEMryVvx",
        "colab": {
          "base_uri": "https://localhost:8080/"
        },
        "outputId": "59610cd7-7998-42bb-93ba-432f2a9625d1"
      },
      "source": [
        "## TEST #2 (Max pts: 5)\n",
        "## DO NOT DELETE NOR MODIFY THIS CELL\n",
        "cov = regressor.covariance(X,y)\n",
        "cov"
      ],
      "execution_count": 45,
      "outputs": [
        {
          "output_type": "execute_result",
          "data": {
            "text/plain": [
              "-456.66"
            ]
          },
          "metadata": {},
          "execution_count": 45
        }
      ]
    },
    {
      "cell_type": "markdown",
      "metadata": {
        "id": "juJUyR5zye-x"
      },
      "source": [
        "Expected output value:\n",
        "$$cov_{x,y} = -456.66$$"
      ]
    },
    {
      "cell_type": "code",
      "metadata": {
        "id": "jN1SaeSUyt7I",
        "colab": {
          "base_uri": "https://localhost:8080/"
        },
        "outputId": "2b927228-8e78-446c-f0b9-1c6ee35d6a40"
      },
      "source": [
        "## TEST #3 (Max pts: 10)\n",
        "## DO NOT DELETE NOR MODIFY THIS CELL\n",
        "r = regressor.pearsons_r(X,y)\n",
        "r"
      ],
      "execution_count": 46,
      "outputs": [
        {
          "output_type": "execute_result",
          "data": {
            "text/plain": [
              "-0.9050803915258335"
            ]
          },
          "metadata": {},
          "execution_count": 46
        }
      ]
    },
    {
      "cell_type": "markdown",
      "metadata": {
        "id": "Q3vAJZWAzBmZ"
      },
      "source": [
        "Expected output value:\n",
        "$$r = -0.90$$"
      ]
    },
    {
      "cell_type": "code",
      "metadata": {
        "id": "SFDJhUNnzUGh",
        "colab": {
          "base_uri": "https://localhost:8080/"
        },
        "outputId": "06629d27-0e4e-4a36-8b09-f251a5225c13"
      },
      "source": [
        "## TEST #4 (Max pts: 15)\n",
        "## DO NOT DELETE NOR MODIFY THIS CELL\n",
        "regressor.train(X,y)\n",
        "regressor.model_"
      ],
      "execution_count": 50,
      "outputs": [
        {
          "output_type": "execute_result",
          "data": {
            "text/plain": [
              "(-0.5425702588653248, -9.378797103736634)"
            ]
          },
          "metadata": {},
          "execution_count": 50
        }
      ]
    },
    {
      "cell_type": "markdown",
      "metadata": {
        "id": "-e-WrFSG0Y1Z"
      },
      "source": [
        "Expected output value:\n",
        "$$\\omega = \\begin{bmatrix}\\omega_1 \\\\ \\omega_0\\end{bmatrix} = \\begin{bmatrix}-0.54  -9.38\\end{bmatrix}$$"
      ]
    },
    {
      "cell_type": "code",
      "metadata": {
        "id": "xYiwOjWD2I18"
      },
      "source": [
        "## TEST #5 (Max pts: 25)\n",
        "## DO NOT DELETE NOR MODIFY THIS CELL\n",
        "preds = regressor.predict(X_test[:5])\n",
        "preds"
      ],
      "execution_count": null,
      "outputs": []
    },
    {
      "cell_type": "markdown",
      "metadata": {
        "id": "oozhSInd2esS"
      },
      "source": [
        "Expected output value:\n",
        "$$\\hat{y}_i = \\begin{bmatrix} -63.64 \\\\ -64.18 \\\\ -64.72 \\\\ -65.26 \\\\ -65.81 \\end{bmatrix}, i = \\{0,1,2,3,4\\}$$"
      ]
    },
    {
      "cell_type": "code",
      "metadata": {
        "id": "l2CTjl1805Cq"
      },
      "source": [
        "## TEST #6 (Max pts: 30)\n",
        "## DO NOT DELETE NOR MODIFY THIS CELL\n",
        "model_stats = regressor.evaluate()\n",
        "model_stats"
      ],
      "execution_count": null,
      "outputs": []
    },
    {
      "cell_type": "code",
      "metadata": {
        "id": "oH5K49uT00CB"
      },
      "source": [
        "## TEST #7 (Max pts: 10)\n",
        "## DO NOT DELETE NOR MODIFY THIS CELL\n",
        "regressor.visualize()"
      ],
      "execution_count": null,
      "outputs": []
    }
  ]
}